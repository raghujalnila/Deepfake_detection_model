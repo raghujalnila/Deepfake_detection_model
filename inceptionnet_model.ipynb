{
 "cells": [
  {
   "cell_type": "code",
   "execution_count": 1,
   "id": "f8adfac3-0dfe-431e-b11a-5707ec909495",
   "metadata": {},
   "outputs": [
    {
     "name": "stderr",
     "output_type": "stream",
     "text": [
      "/tmp/ipykernel_102935/110841570.py:52: FutureWarning: `torch.cuda.amp.GradScaler(args...)` is deprecated. Please use `torch.amp.GradScaler('cuda', args...)` instead.\n",
      "  scaler = GradScaler()\n"
     ]
    },
    {
     "name": "stdout",
     "output_type": "stream",
     "text": [
      "Epoch No: 1\n"
     ]
    },
    {
     "name": "stderr",
     "output_type": "stream",
     "text": [
      "/tmp/ipykernel_102935/110841570.py:67: FutureWarning: `torch.cuda.amp.autocast(args...)` is deprecated. Please use `torch.amp.autocast('cuda', args...)` instead.    | 0/4400 [00:00<?, ?it/s]\n",
      "  with autocast():\n",
      "100%|█████████████████████████████████████████████████████████████████████████████████████████████████████████████████████████████████████████████████████| 4400/4400 [03:33<00:00, 20.65it/s]\n",
      "/tmp/ipykernel_102935/110841570.py:88: FutureWarning: `torch.cuda.amp.autocast(args...)` is deprecated. Please use `torch.amp.autocast('cuda', args...)` instead.\n",
      "  with autocast():\n"
     ]
    },
    {
     "name": "stdout",
     "output_type": "stream",
     "text": [
      "Epoch 1, Train Loss: 0.1826, Val Loss: 0.2547\n",
      "Epoch No: 2\n"
     ]
    },
    {
     "name": "stderr",
     "output_type": "stream",
     "text": [
      "100%|█████████████████████████████████████████████████████████████████████████████████████████████████████████████████████████████████████████████████████| 4400/4400 [02:01<00:00, 36.25it/s]\n"
     ]
    },
    {
     "name": "stdout",
     "output_type": "stream",
     "text": [
      "Epoch 2, Train Loss: 0.1007, Val Loss: 0.0725\n",
      "Epoch No: 3\n"
     ]
    },
    {
     "name": "stderr",
     "output_type": "stream",
     "text": [
      "100%|█████████████████████████████████████████████████████████████████████████████████████████████████████████████████████████████████████████████████████| 4400/4400 [02:01<00:00, 36.32it/s]\n"
     ]
    },
    {
     "name": "stdout",
     "output_type": "stream",
     "text": [
      "Epoch 3, Train Loss: 0.0811, Val Loss: 0.0637\n",
      "Epoch No: 4\n"
     ]
    },
    {
     "name": "stderr",
     "output_type": "stream",
     "text": [
      "100%|█████████████████████████████████████████████████████████████████████████████████████████████████████████████████████████████████████████████████████| 4400/4400 [02:00<00:00, 36.40it/s]\n"
     ]
    },
    {
     "name": "stdout",
     "output_type": "stream",
     "text": [
      "Epoch 4, Train Loss: 0.0695, Val Loss: 0.0665\n",
      "Epoch No: 5\n"
     ]
    },
    {
     "name": "stderr",
     "output_type": "stream",
     "text": [
      "100%|█████████████████████████████████████████████████████████████████████████████████████████████████████████████████████████████████████████████████████| 4400/4400 [02:01<00:00, 36.34it/s]\n"
     ]
    },
    {
     "name": "stdout",
     "output_type": "stream",
     "text": [
      "Epoch 5, Train Loss: 0.0614, Val Loss: 0.0851\n",
      "Epoch No: 6\n"
     ]
    },
    {
     "name": "stderr",
     "output_type": "stream",
     "text": [
      "100%|█████████████████████████████████████████████████████████████████████████████████████████████████████████████████████████████████████████████████████| 4400/4400 [02:01<00:00, 36.31it/s]\n"
     ]
    },
    {
     "name": "stdout",
     "output_type": "stream",
     "text": [
      "Epoch 6, Train Loss: 0.0586, Val Loss: 0.0529\n",
      "Epoch No: 7\n"
     ]
    },
    {
     "name": "stderr",
     "output_type": "stream",
     "text": [
      "100%|█████████████████████████████████████████████████████████████████████████████████████████████████████████████████████████████████████████████████████| 4400/4400 [02:01<00:00, 36.25it/s]\n"
     ]
    },
    {
     "name": "stdout",
     "output_type": "stream",
     "text": [
      "Epoch 7, Train Loss: 0.0534, Val Loss: 0.0384\n",
      "Epoch No: 8\n"
     ]
    },
    {
     "name": "stderr",
     "output_type": "stream",
     "text": [
      "100%|█████████████████████████████████████████████████████████████████████████████████████████████████████████████████████████████████████████████████████| 4400/4400 [02:02<00:00, 35.94it/s]\n"
     ]
    },
    {
     "name": "stdout",
     "output_type": "stream",
     "text": [
      "Epoch 8, Train Loss: 0.0524, Val Loss: 0.0765\n",
      "Epoch No: 9\n"
     ]
    },
    {
     "name": "stderr",
     "output_type": "stream",
     "text": [
      "100%|█████████████████████████████████████████████████████████████████████████████████████████████████████████████████████████████████████████████████████| 4400/4400 [02:02<00:00, 35.93it/s]\n"
     ]
    },
    {
     "name": "stdout",
     "output_type": "stream",
     "text": [
      "Epoch 9, Train Loss: 0.0497, Val Loss: 0.0496\n",
      "Epoch No: 10\n"
     ]
    },
    {
     "name": "stderr",
     "output_type": "stream",
     "text": [
      "100%|█████████████████████████████████████████████████████████████████████████████████████████████████████████████████████████████████████████████████████| 4400/4400 [02:02<00:00, 35.92it/s]\n"
     ]
    },
    {
     "name": "stdout",
     "output_type": "stream",
     "text": [
      "Epoch 10, Train Loss: 0.0492, Val Loss: 0.0480\n",
      "Training Completed & Model Saved! 🚀\n"
     ]
    }
   ],
   "source": [
    "import torch\n",
    "import torch.nn as nn\n",
    "import torch.optim as optim\n",
    "import torchvision.transforms as transforms\n",
    "import torchvision.datasets as datasets\n",
    "from torch.utils.data import DataLoader\n",
    "from torchvision.models import inception_v3\n",
    "from PIL import ImageFile\n",
    "import tqdm\n",
    "from torch.cuda.amp import autocast, GradScaler\n",
    "\n",
    "# ✅ Handle truncated images\n",
    "ImageFile.LOAD_TRUNCATED_IMAGES = True\n",
    "\n",
    "# ✅ Device Configuration\n",
    "device = torch.device(\"cuda\" if torch.cuda.is_available() else \"cpu\")\n",
    "torch.backends.cudnn.benchmark = True  # ✅ Faster training\n",
    "\n",
    "# ✅ Paths to Dataset\n",
    "train_dir = \"/home/vu-lab03-pc17/Desktop/Raghu -28/deep_learning/final_dataset/New/data_split_new/train\"\n",
    "val_dir = \"/home/vu-lab03-pc17/Desktop/Raghu -28/deep_learning/final_dataset/New/data_split_new/val\"\n",
    "test_dir = \"/home/vu-lab03-pc17/Desktop/Raghu -28/deep_learning/final_dataset/New/data_split_new/test\"\n",
    "\n",
    "# ✅ Transformations (For Inception v3)\n",
    "transform = transforms.Compose([\n",
    "    transforms.Resize((299, 299)),  # Inception v3 expects 299x299 input\n",
    "    transforms.ToTensor(),\n",
    "    transforms.Normalize(mean=[0.485, 0.456, 0.406], std=[0.229, 0.224, 0.225])\n",
    "])\n",
    "\n",
    "# ✅ Load Datasets\n",
    "train_dataset = datasets.ImageFolder(root=train_dir, transform=transform)\n",
    "val_dataset = datasets.ImageFolder(root=val_dir, transform=transform)\n",
    "test_dataset = datasets.ImageFolder(root=test_dir, transform=transform)\n",
    "\n",
    "# ✅ Create DataLoaders\n",
    "batch_size = 16\n",
    "train_loader = DataLoader(train_dataset, batch_size=batch_size, shuffle=True, num_workers=4, pin_memory=True)\n",
    "val_loader = DataLoader(val_dataset, batch_size=batch_size, shuffle=False, num_workers=4, pin_memory=True)\n",
    "test_loader = DataLoader(test_dataset, batch_size=batch_size, shuffle=False, num_workers=4, pin_memory=True)\n",
    "\n",
    "# ✅ Model (Using Inception v3)\n",
    "model = inception_v3(weights=\"IMAGENET1K_V1\", aux_logits=True)  # ✅ Keep aux_logits=True\n",
    "model.fc = nn.Linear(model.fc.in_features, 1)  # Binary classification\n",
    "model = model.to(device)\n",
    "\n",
    "# ✅ Loss & Optimizer\n",
    "criterion = nn.BCEWithLogitsLoss()\n",
    "optimizer = optim.Adam(model.parameters(), lr=0.001, weight_decay=1e-4)\n",
    "\n",
    "# ✅ Mixed Precision\n",
    "scaler = GradScaler()\n",
    "\n",
    "# ✅ Training Function\n",
    "def train(model, train_loader, val_loader, criterion, optimizer, epochs=10):\n",
    "    train_losses, val_losses = [], []\n",
    "\n",
    "    for epoch in range(epochs):\n",
    "        print(f\"Epoch No: {epoch + 1}\")\n",
    "        model.train()\n",
    "        total_loss = 0\n",
    "\n",
    "        for inputs, labels in tqdm.tqdm(train_loader):\n",
    "            inputs, labels = inputs.to(device), labels.to(device, dtype=torch.float32).unsqueeze(1)\n",
    "            \n",
    "            optimizer.zero_grad()\n",
    "            with autocast():\n",
    "                outputs = model(inputs)\n",
    "                if isinstance(outputs, tuple):  # ✅ Ignore auxiliary logits\n",
    "                    outputs = outputs[0]\n",
    "                loss = criterion(outputs, labels)\n",
    "            \n",
    "            scaler.scale(loss).backward()\n",
    "            scaler.step(optimizer)\n",
    "            scaler.update()\n",
    "\n",
    "            total_loss += loss.item()\n",
    "\n",
    "        avg_train_loss = total_loss / len(train_loader)\n",
    "        train_losses.append(avg_train_loss)\n",
    "\n",
    "        # ✅ VALIDATION\n",
    "        model.eval()\n",
    "        total_loss = 0\n",
    "        with torch.no_grad():\n",
    "            for inputs, labels in val_loader:\n",
    "                inputs, labels = inputs.to(device), labels.to(device, dtype=torch.float32).unsqueeze(1)\n",
    "                with autocast():\n",
    "                    outputs = model(inputs)\n",
    "                    if isinstance(outputs, tuple):  # ✅ Ignore auxiliary logits\n",
    "                        outputs = outputs[0]\n",
    "                    loss = criterion(outputs, labels)\n",
    "                total_loss += loss.item()\n",
    "\n",
    "        avg_val_loss = total_loss / len(val_loader)\n",
    "        val_losses.append(avg_val_loss)\n",
    "\n",
    "        print(f'Epoch {epoch + 1}, Train Loss: {avg_train_loss:.4f}, Val Loss: {avg_val_loss:.4f}')\n",
    "\n",
    "    return train_losses, val_losses\n",
    "\n",
    "# ✅ Train Model\n",
    "train_losses, val_losses = train(model, train_loader, val_loader, criterion, optimizer, epochs=10)\n",
    "\n",
    "# ✅ Save Model\n",
    "torch.save(model.state_dict(), \"binary_classification_inception1.pth\")\n",
    "print(\"Training Completed & Model Saved! 🚀\")\n"
   ]
  },
  {
   "cell_type": "code",
   "execution_count": 3,
   "id": "2275588c-5250-474f-8f67-d03d0e91d74f",
   "metadata": {},
   "outputs": [
    {
     "name": "stdout",
     "output_type": "stream",
     "text": [
      "Test Accuracy: 98.33%\n"
     ]
    }
   ],
   "source": [
    "# ✅ Function to Evaluate Model on Test Data\n",
    "def test_model(model, test_loader):\n",
    "    model.eval()\n",
    "    correct = 0\n",
    "    total = 0\n",
    "\n",
    "    with torch.no_grad():\n",
    "        for inputs, labels in test_loader:\n",
    "            inputs, labels = inputs.to(device), labels.to(device, dtype=torch.float32).unsqueeze(1)\n",
    "            outputs = model(inputs)\n",
    "            if isinstance(outputs, tuple):  # ✅ Ignore auxiliary logits\n",
    "                outputs = outputs[0]\n",
    "            predictions = (torch.sigmoid(outputs) > 0.5).float()  # Convert logits to binary predictions\n",
    "            correct += (predictions == labels).sum().item()\n",
    "            total += labels.size(0)\n",
    "\n",
    "    accuracy = correct / total * 100\n",
    "    return accuracy\n",
    "\n",
    "# ✅ Load Saved Model\n",
    "model.load_state_dict(torch.load(\"binary_classification_inception1.pth\"))\n",
    "model.to(device)\n",
    "\n",
    "# ✅ Compute Test Accuracy\n",
    "test_accuracy = test_model(model, test_loader)\n",
    "print(f\"Test Accuracy: {test_accuracy:.2f}%\")\n"
   ]
  },
  {
   "cell_type": "code",
   "execution_count": 1,
   "id": "ca25727d-96ec-4059-8abd-5d3b5ba5b354",
   "metadata": {},
   "outputs": [
    {
     "ename": "NameError",
     "evalue": "name 'train_losses' is not defined",
     "output_type": "error",
     "traceback": [
      "\u001b[1;31m---------------------------------------------------------------------------\u001b[0m",
      "\u001b[1;31mNameError\u001b[0m                                 Traceback (most recent call last)",
      "Cell \u001b[1;32mIn[1], line 23\u001b[0m\n\u001b[0;32m     20\u001b[0m     fig\u001b[38;5;241m.\u001b[39mshow()\n\u001b[0;32m     22\u001b[0m \u001b[38;5;66;03m# ✅ Plot Loss Graph\u001b[39;00m\n\u001b[1;32m---> 23\u001b[0m plot_loss_curve(\u001b[43mtrain_losses\u001b[49m, val_losses)\n",
      "\u001b[1;31mNameError\u001b[0m: name 'train_losses' is not defined"
     ]
    }
   ],
   "source": [
    "import plotly.graph_objects as go\n",
    "\n",
    "# ✅ Function to Plot Loss Curves\n",
    "def plot_loss_curve(train_losses, val_losses):\n",
    "    epochs = list(range(1, len(train_losses) + 1))\n",
    "    \n",
    "    fig = go.Figure()\n",
    "    \n",
    "    fig.add_trace(go.Scatter(x=epochs, y=train_losses, mode='lines+markers', name='Train Loss'))\n",
    "    fig.add_trace(go.Scatter(x=epochs, y=val_losses, mode='lines+markers', name='Validation Loss'))\n",
    "    \n",
    "    fig.update_layout(\n",
    "        title=\"Training & Validation Loss Curve\",\n",
    "        xaxis_title=\"Epoch\",\n",
    "        yaxis_title=\"Loss\",\n",
    "        template=\"plotly_dark\",\n",
    "        legend=dict(x=0, y=1)\n",
    "    )\n",
    "    \n",
    "    fig.show()\n",
    "\n",
    "# ✅ Plot Loss Graph\n",
    "plot_loss_curve(train_losses, val_losses)\n"
   ]
  },
  {
   "cell_type": "code",
   "execution_count": 8,
   "id": "efdd91eb-ee81-4752-9fc3-a245be358536",
   "metadata": {},
   "outputs": [],
   "source": [
    "#!pip install plotly"
   ]
  },
  {
   "cell_type": "code",
   "execution_count": 14,
   "id": "affca740-b34b-465e-8c3a-c2fd0730ef46",
   "metadata": {},
   "outputs": [
    {
     "name": "stdout",
     "output_type": "stream",
     "text": [
      "Prediction: real (Confidence: 0.87)\n"
     ]
    }
   ],
   "source": [
    "import torch\n",
    "import torchvision.transforms as transforms\n",
    "from torchvision.models import inception_v3\n",
    "from PIL import Image\n",
    "\n",
    "# ✅ Device Configuration\n",
    "device = torch.device(\"cuda\" if torch.cuda.is_available() else \"cpu\")\n",
    "\n",
    "# ✅ Load the Trained Model\n",
    "model = inception_v3(weights=None, aux_logits=True)  # ✅ Aux logits must match training\n",
    "model.fc = torch.nn.Linear(model.fc.in_features, 1)  # Binary classification\n",
    "model.load_state_dict(torch.load(\"binary_classification_inception.pth\", map_location=device))\n",
    "model.to(device)\n",
    "model.eval()\n",
    "\n",
    "# ✅ Image Preprocessing (Same as Training)\n",
    "transform = transforms.Compose([\n",
    "    transforms.Resize((299, 299)),  # Inception v3 expects 299x299 input\n",
    "    transforms.ToTensor(),\n",
    "    transforms.Normalize(mean=[0.485, 0.456, 0.406], std=[0.229, 0.224, 0.225])\n",
    "])\n",
    "\n",
    "# ✅ Function to Predict\n",
    "def predict_image(image_path):\n",
    "    image = Image.open(image_path).convert(\"RGB\")  # Open and Convert to RGB\n",
    "    image = transform(image).unsqueeze(0).to(device)  # Apply Transforms & Add Batch Dimension\n",
    "\n",
    "    with torch.no_grad():\n",
    "        output = model(image)\n",
    "        if isinstance(output, tuple):  # Ignore auxiliary logits\n",
    "            output = output[0]\n",
    "        prediction = torch.sigmoid(output).item()  # Convert Logits to Probability\n",
    "\n",
    "    # ✅ Convert to Class Label (Assuming 0 = Class A, 1 = Class B)\n",
    "    label = \"real\" if prediction > 0.5 else \"fake\"\n",
    "    confidence = prediction if prediction > 0.5 else 1 - prediction\n",
    "\n",
    "    print(f\"Prediction: {label} (Confidence: {confidence:.2f})\")\n",
    "\n",
    "# ✅ Test with an Image\n",
    "image_path = \"/home/vu-lab03-pc17/Downloads/frame_3.jpg\"  # Change to your image path\n",
    "predict_image(image_path)\n"
   ]
  },
  {
   "cell_type": "code",
   "execution_count": null,
   "id": "97971622-4e8b-42a0-b146-6b2dc5a9f234",
   "metadata": {},
   "outputs": [],
   "source": []
  },
  {
   "cell_type": "code",
   "execution_count": null,
   "id": "b06bb2e0-1d8f-4255-a7c4-c2e0cff40ce7",
   "metadata": {},
   "outputs": [],
   "source": []
  },
  {
   "cell_type": "code",
   "execution_count": null,
   "id": "f949116c-363d-4288-b116-42318b7f78be",
   "metadata": {},
   "outputs": [],
   "source": []
  },
  {
   "cell_type": "code",
   "execution_count": null,
   "id": "ac08586f-42a7-4e52-9c20-c0e984abee5f",
   "metadata": {},
   "outputs": [],
   "source": []
  }
 ],
 "metadata": {
  "kernelspec": {
   "display_name": "Python 3 (ipykernel)",
   "language": "python",
   "name": "python3"
  },
  "language_info": {
   "codemirror_mode": {
    "name": "ipython",
    "version": 3
   },
   "file_extension": ".py",
   "mimetype": "text/x-python",
   "name": "python",
   "nbconvert_exporter": "python",
   "pygments_lexer": "ipython3",
   "version": "3.10.9"
  }
 },
 "nbformat": 4,
 "nbformat_minor": 5
}
